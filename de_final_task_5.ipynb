{
  "nbformat": 4,
  "nbformat_minor": 0,
  "metadata": {
    "colab": {
      "provenance": [],
      "authorship_tag": "ABX9TyP0lIfwionbl/5K5aea0pLA",
      "include_colab_link": true
    },
    "kernelspec": {
      "name": "python3",
      "display_name": "Python 3"
    },
    "language_info": {
      "name": "python"
    }
  },
  "cells": [
    {
      "cell_type": "markdown",
      "metadata": {
        "id": "view-in-github",
        "colab_type": "text"
      },
      "source": [
        "<a href=\"https://colab.research.google.com/github/delphython/de_final_task_5/blob/main/de_final_task_5.ipynb\" target=\"_parent\"><img src=\"https://colab.research.google.com/assets/colab-badge.svg\" alt=\"Open In Colab\"/></a>"
      ]
    },
    {
      "cell_type": "code",
      "execution_count": 2,
      "metadata": {
        "colab": {
          "base_uri": "https://localhost:8080/"
        },
        "id": "K6hVsUVT7d-K",
        "outputId": "acd66a71-b43b-4996-f0a7-6001341b1d51"
      },
      "outputs": [
        {
          "output_type": "stream",
          "name": "stdout",
          "text": [
            "Collecting faker\n",
            "  Downloading Faker-33.1.0-py3-none-any.whl.metadata (15 kB)\n",
            "Requirement already satisfied: python-dateutil>=2.4 in /usr/local/lib/python3.10/dist-packages (from faker) (2.8.2)\n",
            "Requirement already satisfied: typing-extensions in /usr/local/lib/python3.10/dist-packages (from faker) (4.12.2)\n",
            "Requirement already satisfied: six>=1.5 in /usr/local/lib/python3.10/dist-packages (from python-dateutil>=2.4->faker) (1.17.0)\n",
            "Downloading Faker-33.1.0-py3-none-any.whl (1.9 MB)\n",
            "\u001b[2K   \u001b[90m━━━━━━━━━━━━━━━━━━━━━━━━━━━━━━━━━━━━━━━━\u001b[0m \u001b[32m1.9/1.9 MB\u001b[0m \u001b[31m20.6 MB/s\u001b[0m eta \u001b[36m0:00:00\u001b[0m\n",
            "\u001b[?25hInstalling collected packages: faker\n",
            "Successfully installed faker-33.1.0\n"
          ]
        }
      ],
      "source": [
        "!pip install faker"
      ]
    },
    {
      "cell_type": "code",
      "source": [
        "!pip install pyspark"
      ],
      "metadata": {
        "colab": {
          "base_uri": "https://localhost:8080/"
        },
        "id": "QFEzGI_374LC",
        "outputId": "f9f3498a-d5d9-4266-8116-2404f0855048"
      },
      "execution_count": 2,
      "outputs": [
        {
          "output_type": "stream",
          "name": "stdout",
          "text": [
            "Requirement already satisfied: pyspark in /usr/local/lib/python3.10/dist-packages (3.5.3)\n",
            "Requirement already satisfied: py4j==0.10.9.7 in /usr/local/lib/python3.10/dist-packages (from pyspark) (0.10.9.7)\n"
          ]
        }
      ]
    },
    {
      "cell_type": "code",
      "source": [
        "import csv\n",
        "from faker import Faker\n",
        "import random\n",
        "\n",
        "fake = Faker()\n",
        "\n",
        "num_records = 100000\n",
        "\n",
        "http_methods = ['GET', 'POST', 'PUT', 'DELETE']\n",
        "response_codes = [200, 301, 404, 500]\n",
        "\n",
        "file_path = \"/content/task/web_server_logs.csv\"\n",
        "\n",
        "with open(file_path, mode='w', newline='') as file:\n",
        "    writer = csv.writer(file)\n",
        "    writer.writerow(['ip', 'timestamp', 'method', 'url', 'response_code', 'response_size'])\n",
        "\n",
        "    for _ in range(num_records):\n",
        "        ip = fake.ipv4()\n",
        "        timestamp = fake.date_time_this_year().isoformat()\n",
        "        method = random.choice(http_methods)\n",
        "        url = fake.uri_path()\n",
        "        response_code = random.choice(response_codes)\n",
        "        response_size = random.randint(100, 10000)\n",
        "\n",
        "        writer.writerow([ip, timestamp, method, url, response_code, response_size])\n",
        "\n",
        "print(f\"Сгенерировано {num_records} записей и сохранено в {file_path}\")\n"
      ],
      "metadata": {
        "colab": {
          "base_uri": "https://localhost:8080/"
        },
        "id": "fezU_5AT8QZk",
        "outputId": "88497195-ed62-4182-def7-1de946c611aa"
      },
      "execution_count": 3,
      "outputs": [
        {
          "output_type": "stream",
          "name": "stdout",
          "text": [
            "Сгенерировано 100000 записей и сохранено в /content/task/web_server_logs.csv\n"
          ]
        }
      ]
    },
    {
      "cell_type": "code",
      "source": [
        "from pyspark.sql import SparkSession\n",
        "\n",
        "spark_session = SparkSession.builder \\\n",
        ".appName(\"DE fifth final task\") \\\n",
        ".getOrCreate()\n",
        "\n",
        "web_server_logs_df = spark_session.read.csv(\n",
        "    \"/content/task/web_server_logs.csv\",\n",
        "    header=True,\n",
        "    inferSchema=True,\n",
        ")\n",
        "\n",
        "web_server_logs_df.createOrReplaceTempView(\"web_server_logs\")\n",
        "\n",
        "top_ten_active_ip_addresses = spark_session.sql(\"\"\"\n",
        "select ip, count(ip) as request_count\n",
        "from web_server_logs\n",
        "group by ip\n",
        "order by request_count desc\n",
        "LIMIT 10\n",
        "\"\"\")\n",
        "print(\"Top 10 active ip addresses:\")\n",
        "top_ten_active_ip_addresses.show()\n",
        "\n",
        "request_count_by_method = spark_session.sql(\"\"\"\n",
        "select method, count(ip) as method_count\n",
        "from web_server_logs\n",
        "group by method\n",
        "\"\"\")\n",
        "print(\"Request count by HTTP method:\")\n",
        "request_count_by_method.show()\n",
        "\n",
        "not_found_response_code_count = spark_session.sql(\"\"\"\n",
        "select count(ip)\n",
        "from web_server_logs\n",
        "where response_code = '404'\n",
        "\"\"\").collect()[0][0]\n",
        "print(f\"Number of 404 response codes: {not_found_response_code_count}\")\n",
        "\n",
        "total_response_size_by_day = spark_session.sql(\"\"\"\n",
        "select date(timestamp) as date, sum(response_size) as total_response_size\n",
        "from web_server_logs\n",
        "group by date\n",
        "order by date\n",
        "\"\"\")\n",
        "print(\"Total response size by day:\")\n",
        "total_response_size_by_day.show()\n",
        "\n",
        "spark_session.stop()"
      ],
      "metadata": {
        "colab": {
          "base_uri": "https://localhost:8080/"
        },
        "id": "_SlxuqcB8yKY",
        "outputId": "570cb756-d6ee-40d5-c589-3ec0f81b2623"
      },
      "execution_count": 12,
      "outputs": [
        {
          "output_type": "stream",
          "name": "stdout",
          "text": [
            "Top 10 active ip addresses:\n",
            "+--------------+-------------+\n",
            "|            ip|request_count|\n",
            "+--------------+-------------+\n",
            "|   81.2.97.253|            2|\n",
            "|  67.21.79.225|            1|\n",
            "|152.215.85.170|            1|\n",
            "|  185.5.113.64|            1|\n",
            "|   77.79.62.18|            1|\n",
            "|154.212.17.194|            1|\n",
            "|  175.76.37.31|            1|\n",
            "|  38.234.233.2|            1|\n",
            "|69.131.167.195|            1|\n",
            "| 82.212.142.51|            1|\n",
            "+--------------+-------------+\n",
            "\n",
            "Request count by HTTP method:\n",
            "+------+------------+\n",
            "|method|method_count|\n",
            "+------+------------+\n",
            "|  POST|       25208|\n",
            "|DELETE|       25123|\n",
            "|   PUT|       24841|\n",
            "|   GET|       24828|\n",
            "+------+------------+\n",
            "\n",
            "Number of 404 response codes: 25023\n",
            "Total response size by day:\n",
            "+----------+-------------------+\n",
            "|      date|total_response_size|\n",
            "+----------+-------------------+\n",
            "|2024-01-01|            1451089|\n",
            "|2024-01-02|            1385931|\n",
            "|2024-01-03|            1500077|\n",
            "|2024-01-04|            1272725|\n",
            "|2024-01-05|            1378954|\n",
            "|2024-01-06|            1344163|\n",
            "|2024-01-07|            1594728|\n",
            "|2024-01-08|            1421200|\n",
            "|2024-01-09|            1305948|\n",
            "|2024-01-10|            1363480|\n",
            "|2024-01-11|            1435311|\n",
            "|2024-01-12|            1443091|\n",
            "|2024-01-13|            1357766|\n",
            "|2024-01-14|            1483665|\n",
            "|2024-01-15|            1393867|\n",
            "|2024-01-16|            1411403|\n",
            "|2024-01-17|            1300145|\n",
            "|2024-01-18|            1451937|\n",
            "|2024-01-19|            1205060|\n",
            "|2024-01-20|            1406395|\n",
            "+----------+-------------------+\n",
            "only showing top 20 rows\n",
            "\n"
          ]
        }
      ]
    }
  ]
}